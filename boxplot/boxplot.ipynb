{
 "cells": [
  {
   "cell_type": "code",
   "execution_count": 8,
   "metadata": {
    "colab": {},
    "colab_type": "code",
    "id": "o-r-j7JtApiB"
   },
   "outputs": [],
   "source": [
    "import numpy as np\n",
    "import pandas as pd\n",
    "%matplotlib inline\n",
    "from matplotlib import pyplot\n",
    "import time"
   ]
  },
  {
   "cell_type": "code",
   "execution_count": 9,
   "metadata": {
    "colab": {},
    "colab_type": "code",
    "id": "X5OXgW7VALY4"
   },
   "outputs": [],
   "source": [
    "RNA = pd.read_excel(\"BoxPlotRNAFINAL.xlsx\", header=0, index_col=0)\n",
    "LSTM = pd.read_excel(\"BoxPlotRNNFINAL.xlsx\", header=0, index_col=0)"
   ]
  },
  {
   "cell_type": "code",
   "execution_count": 10,
   "metadata": {
    "colab": {
     "base_uri": "https://localhost:8080/",
     "height": 262
    },
    "colab_type": "code",
    "executionInfo": {
     "elapsed": 1122,
     "status": "ok",
     "timestamp": 1590113621127,
     "user": {
      "displayName": "Deilson Martins",
      "photoUrl": "",
      "userId": "13111410726071834293"
     },
     "user_tz": 180
    },
    "id": "gKjv5rqWA01G",
    "outputId": "e2a281c4-d04c-424d-e3c9-4de539fb6468"
   },
   "outputs": [
    {
     "data": {
      "image/png": "[encoded data removed]",
      "text/plain": [
       "<Figure size 720x720 with 2 Axes>"
      ]
     },
     "metadata": {
      "needs_background": "light"
     },
     "output_type": "display_data"
    }
   ],
   "source": [
    "red_square = dict(markerfacecolor='g', marker='s')\n",
    "\n",
    "fig = pyplot.figure()\n",
    "ax1 = fig.add_subplot(221)\n",
    "ax2 = fig.add_subplot(222)\n",
    "\n",
    "ax1.boxplot(RNA['mae'], flierprops=red_square, patch_artist=True)\n",
    "ax2.boxplot(LSTM['mae'], flierprops=red_square, patch_artist=True)\n",
    "\n",
    "ax1.set_ylabel('m / s')\n",
    "ax2.set_ylabel('m / s')\n",
    "\n",
    "ax1.set_xlabel('RNA')\n",
    "ax2.set_xlabel('RNN-LSTM')\n",
    "\n",
    "ax1.tick_params(\n",
    "    axis='x',          # changes apply to the x-axis\n",
    "    which='both',      # both major and minor ticks are affected\n",
    "    bottom=False,      # ticks along the bottom Edge are off\n",
    "    top=False,         # ticks along the top Edge are off\n",
    "    labelbottom=False)\n",
    "\n",
    "ax2.tick_params(\n",
    "    axis='x',          # changes apply to the x-axis\n",
    "    which='both',      # both major and minor ticks are affected\n",
    "    bottom=False,      # ticks along the bottom Edge are off\n",
    "    top=False,         # ticks along the top Edge are off\n",
    "    labelbottom=False)\n",
    "\n",
    "fig.set_size_inches(10,10)\n",
    "fig.subplots_adjust(hspace=0.5, wspace=0.3)\n",
    "\n",
    "path_save = 'comparacao_box_plot_MAE'\n",
    "pyplot.savefig(path_save, dpi=600, format='pdf')"
   ]
  },
  {
   "cell_type": "code",
   "execution_count": 11,
   "metadata": {
    "colab": {
     "base_uri": "https://localhost:8080/",
     "height": 262
    },
    "colab_type": "code",
    "executionInfo": {
     "elapsed": 1236,
     "status": "ok",
     "timestamp": 1590113629379,
     "user": {
      "displayName": "Deilson Martins",
      "photoUrl": "",
      "userId": "13111410726071834293"
     },
     "user_tz": 180
    },
    "id": "R0wOqvAKA_g8",
    "outputId": "7e631a58-b441-4a37-ef11-c0eecd9fb63a"
   },
   "outputs": [
    {
     "data": {
      "image/png": "[encoded data removed]",
      "text/plain": [
       "<Figure size 720x720 with 2 Axes>"
      ]
     },
     "metadata": {
      "needs_background": "light"
     },
     "output_type": "display_data"
    }
   ],
   "source": [
    "red_square = dict(markerfacecolor='g', marker='s')\n",
    "\n",
    "fig = pyplot.figure()\n",
    "ax1 = fig.add_subplot(221)\n",
    "ax2 = fig.add_subplot(222)\n",
    "\n",
    "ax1.boxplot(RNA['rmse'], flierprops=red_square, patch_artist=True)\n",
    "ax2.boxplot(LSTM['rmse'], flierprops=red_square, patch_artist=True)\n",
    "\n",
    "ax1.set_ylabel('m / s')\n",
    "ax2.set_ylabel('m / s')\n",
    "\n",
    "ax1.set_xlabel('RNA')\n",
    "ax2.set_xlabel('RNN-LSTM')\n",
    "\n",
    "ax1.tick_params(\n",
    "    axis='x',          # changes apply to the x-axis\n",
    "    which='both',      # both major and minor ticks are affected\n",
    "    bottom=False,      # ticks along the bottom Edge are off\n",
    "    top=False,         # ticks along the top Edge are off\n",
    "    labelbottom=False)\n",
    "\n",
    "ax2.tick_params(\n",
    "    axis='x',          # changes apply to the x-axis\n",
    "    which='both',      # both major and minor ticks are affected\n",
    "    bottom=False,      # ticks along the bottom Edge are off\n",
    "    top=False,         # ticks along the top Edge are off\n",
    "    labelbottom=False)\n",
    "\n",
    "fig.set_size_inches(10,10)\n",
    "fig.subplots_adjust(hspace=0.5, wspace=0.3)\n",
    "\n",
    "path_save = 'comparacao_box_plot_RMSE'\n",
    "pyplot.savefig(path_save, dpi=600, format='pdf')"
   ]
  },
  {
   "cell_type": "code",
   "execution_count": 12,
   "metadata": {
    "colab": {
     "base_uri": "https://localhost:8080/",
     "height": 263
    },
    "colab_type": "code",
    "executionInfo": {
     "elapsed": 1447,
     "status": "ok",
     "timestamp": 1590113739488,
     "user": {
      "displayName": "Deilson Martins",
      "photoUrl": "",
      "userId": "13111410726071834293"
     },
     "user_tz": 180
    },
    "id": "wy0vEloqKegV",
    "outputId": "08442906-767c-491c-8ca2-be9d70d62b23"
   },
   "outputs": [
    {
     "data": {
      "image/png": "[encoded data removed]",
      "text/plain": [
       "<Figure size 720x720 with 2 Axes>"
      ]
     },
     "metadata": {
      "needs_background": "light"
     },
     "output_type": "display_data"
    }
   ],
   "source": [
    "red_square = dict(markerfacecolor='g', marker='s')\n",
    "\n",
    "fig = pyplot.figure()\n",
    "ax1 = fig.add_subplot(221)\n",
    "ax2 = fig.add_subplot(222)\n",
    "\n",
    "ax1.boxplot(RNA['utheil'], flierprops=red_square, patch_artist=True)\n",
    "ax2.boxplot(LSTM['utheil'], flierprops=red_square, patch_artist=True)\n",
    "\n",
    "ax1.set_ylabel('Adimensional')\n",
    "ax2.set_ylabel('Adimensional')\n",
    "\n",
    "ax1.set_xlabel('RNA')\n",
    "ax2.set_xlabel('RNN-LSTM')\n",
    "\n",
    "ax1.tick_params(\n",
    "    axis='x',          # changes apply to the x-axis\n",
    "    which='both',      # both major and minor ticks are affected\n",
    "    bottom=False,      # ticks along the bottom Edge are off\n",
    "    top=False,         # ticks along the top Edge are off\n",
    "    labelbottom=False)\n",
    "\n",
    "ax2.tick_params(\n",
    "    axis='x',          # changes apply to the x-axis\n",
    "    which='both',      # both major and minor ticks are affected\n",
    "    bottom=False,      # ticks along the bottom Edge are off\n",
    "    top=False,         # ticks along the top Edge are off\n",
    "    labelbottom=False)\n",
    "\n",
    "fig.set_size_inches(10,10)\n",
    "fig.subplots_adjust(hspace=0.5, wspace=0.3)\n",
    "\n",
    "path_save = 'comparacao_box_plot_utheil'\n",
    "pyplot.savefig(path_save, dpi=600, format='pdf')"
   ]
  }
 ],
 "metadata": {
  "colab": {
   "authorship_tag": "ABX9TyNX9UkIubcFkGMUEFjN+Nbl",
   "name": "boxplot.ipynb",
   "provenance": []
  },
  "kernelspec": {
   "display_name": "Python 3",
   "language": "python",
   "name": "python3"
  },
  "language_info": {
   "codemirror_mode": {
    "name": "ipython",
    "version": 3
   },
   "file_extension": ".py",
   "mimetype": "text/x-python",
   "name": "python",
   "nbconvert_exporter": "python",
   "pygments_lexer": "ipython3",
   "version": "3.7.6"
  }
 },
 "nbformat": 4,
 "nbformat_minor": 1
}
