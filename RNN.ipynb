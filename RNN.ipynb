{
 "cells": [
  {
   "cell_type": "code",
   "execution_count": 26,
   "metadata": {
    "colab": {},
    "colab_type": "code",
    "id": "lA4qDK3c11gO"
   },
   "outputs": [],
   "source": [
    "# importando as bibliotecas utilizadas para calculos matematicos\n",
    "import numpy as np\n",
    "import pandas as pd\n",
    "%matplotlib inline\n",
    "from matplotlib import pyplot\n",
    "import time"
   ]
  },
  {
   "cell_type": "code",
   "execution_count": 27,
   "metadata": {
    "colab": {},
    "colab_type": "code",
    "id": "OjZ4-Qmr11gS"
   },
   "outputs": [],
   "source": [
    "# importando as bibliotecas utilizadas para o modelo de rede neural\n",
    "\n",
    "from sklearn.preprocessing import MinMaxScaler\n",
    "from sklearn.preprocessing import LabelEncoder\n",
    "from sklearn.metrics import mean_squared_error, mean_absolute_error\n",
    "\n",
    "from keras.models import Sequential\n",
    "from keras.layers import Dense\n",
    "from keras.layers import LSTM"
   ]
  },
  {
   "cell_type": "code",
   "execution_count": 28,
   "metadata": {
    "colab": {
     "base_uri": "https://localhost:8080/",
     "height": 168
    },
    "colab_type": "code",
    "executionInfo": {
     "elapsed": 2378,
     "status": "ok",
     "timestamp": 1590194516790,
     "user": {
      "displayName": "Deilson Martins",
      "photoUrl": "",
      "userId": "13111410726071834293"
     },
     "user_tz": 180
    },
    "id": "_8CawaB-11gZ",
    "outputId": "b974a047-f3f5-46cb-c0d2-ba516e97417e"
   },
   "outputs": [
    {
     "name": "stdout",
     "output_type": "stream",
     "text": [
      "                     VELOCIDADE (m/s)  ÂNGULO (deg)  TEMPERATURA (C)  \\\n",
      "DATA                                                                   \n",
      "2018-11-06 00:00:00              10.3           123             20.1   \n",
      "2018-11-06 01:00:00               9.8           125             19.8   \n",
      "2018-11-06 02:00:00               9.5           127             19.6   \n",
      "2018-11-06 03:00:00               9.2           130             19.4   \n",
      "2018-11-06 04:00:00               8.9           132             19.3   \n",
      "\n",
      "                     DENSIDADE (k/m3)  PRESSÃO (hPa)  \n",
      "DATA                                                  \n",
      "2018-11-06 00:00:00              1.13          947.8  \n",
      "2018-11-06 01:00:00              1.13          947.6  \n",
      "2018-11-06 02:00:00              1.13          947.5  \n",
      "2018-11-06 03:00:00              1.13          947.4  \n",
      "2018-11-06 04:00:00              1.13          947.8  \n"
     ]
    }
   ],
   "source": [
    "# ler os dados como data frame\n",
    "data_frame = pd.read_csv(\"dados_tratados.csv\", header=0, index_col=0)\n",
    "data_frame.columns = ['VELOCIDADE (m/s)', 'ÂNGULO (deg)', 'TEMPERATURA (C)', 'DENSIDADE (k/m3)', 'PRESSÃO (hPa)']\n",
    "print(data_frame.head())"
   ]
  },
  {
   "cell_type": "code",
   "execution_count": 29,
   "metadata": {
    "colab": {
     "base_uri": "https://localhost:8080/",
     "height": 607
    },
    "colab_type": "code",
    "executionInfo": {
     "elapsed": 3803,
     "status": "ok",
     "timestamp": 1590194521549,
     "user": {
      "displayName": "Deilson Martins",
      "photoUrl": "",
      "userId": "13111410726071834293"
     },
     "user_tz": 180
    },
    "id": "IyjSMnYi11ge",
    "outputId": "066a2c45-9e59-4f89-878e-53d20523b26e"
   },
   "outputs": [
    {
     "data": {
      "image/png": "[encoded data removed]",
      "text/plain": [
       "<Figure size 720x720 with 6 Axes>"
      ]
     },
     "metadata": {
      "needs_background": "light"
     },
     "output_type": "display_data"
    }
   ],
   "source": [
    "histograma = data_frame.hist(bins=50, figsize=(10,10))\n",
    "pyplot.savefig('histograma', dpi=500, format='pdf')\n"
   ]
  },
  {
   "cell_type": "code",
   "execution_count": 30,
   "metadata": {
    "colab": {},
    "colab_type": "code",
    "id": "BWrBtb0111gm"
   },
   "outputs": [],
   "source": [
    "# prepara a serie temporal para o modelo de aprendizado\n",
    "def series_para_modelo_aprendizado(dados, n_entrada=1, n_saida=1, dropnan=True):\n",
    "    \n",
    "    n_vars = 1 if type(dados) is list else dados.shape[1]\n",
    "    df = pd.DataFrame(dados)\n",
    "    colunas, nomes = list(), list()\n",
    "    \n",
    "    # adiciona a sequencia (t-n, ... t-1)\n",
    "    for i in range(n_entrada, 0, -1):\n",
    "        colunas.append(df.shift(i))\n",
    "        nomes += [('var%d(t-%d)' % (j+1, i)) for j in range(n_vars)]\n",
    "    \n",
    "    # sequencia de previsao (t, t+1, ... t+n)\n",
    "    for i in range(0, n_saida):\n",
    "        colunas.append(df.shift(-i))\n",
    "        if i == 0:\n",
    "            nomes += [('var%d(t)' % (j+1)) for j in range(n_vars)]\n",
    "        else:\n",
    "            nomes += [('var%d(t+%d)' % (j+1, i)) for j in range(n_vars)]\n",
    "            \n",
    "    # concatenando tudo\n",
    "    concatenado = pd.concat(colunas, axis=1)\n",
    "    concatenado.columns = nomes\n",
    "    \n",
    "    # eliminando linhas sem valores\n",
    "    if dropnan:\n",
    "        concatenado.dropna(inplace=True)\n",
    "        \n",
    "    return concatenado"
   ]
  },
  {
   "cell_type": "code",
   "execution_count": 31,
   "metadata": {
    "colab": {},
    "colab_type": "code",
    "id": "piuwQ3yw11gv"
   },
   "outputs": [],
   "source": [
    "def preparar_dados_lstm():\n",
    "\n",
    "    # Apenas os valores do data frame são retornados, sem rótulos.\n",
    "    values = data_frame.values\n",
    "    # Transformar os datas em numeros para o modelo de aprendizado\n",
    "    encoder = LabelEncoder()\n",
    "    # Defini a velocidade do vento como objetivo de previsao\n",
    "    #values[:,0] = encoder.fit_transform(values[:,0])\n",
    "    # Transformar todos os valores do \"values\" em string\n",
    "    values = values.astype('float32')\n",
    "    # Normalizar os dados entre \"0 e 1\"\"\n",
    "    normalizado = MinMaxScaler(feature_range=(0, 1))\n",
    "    # Escalonar os dados entre \"0 e 1\"\n",
    "    escalonado = normalizado.fit_transform(values)\n",
    "    # Transformar series para o modelo de aprendizado\n",
    "    dados_lstm = series_para_modelo_aprendizado(escalonado, 1, 1)\n",
    "    # Deleta as colunas \"(t)\" das variaveis sem ser a \"var1\"\n",
    "    dados_lstm.drop(dados_lstm.columns[[9,8,7,6]], axis=1, inplace=True)\n",
    "    \n",
    "    return dados_lstm, normalizado"
   ]
  },
  {
   "cell_type": "code",
   "execution_count": 32,
   "metadata": {
    "colab": {
     "base_uri": "https://localhost:8080/",
     "height": 252
    },
    "colab_type": "code",
    "executionInfo": {
     "elapsed": 1789,
     "status": "ok",
     "timestamp": 1590194532784,
     "user": {
      "displayName": "Deilson Martins",
      "photoUrl": "",
      "userId": "13111410726071834293"
     },
     "user_tz": 180
    },
    "id": "2BGnA8MV11gz",
    "outputId": "520b2c54-e89b-4314-a3c0-28b7d61fe607"
   },
   "outputs": [
    {
     "name": "stdout",
     "output_type": "stream",
     "text": [
      "      var1(t-1)  var2(t-1)  var3(t-1)  var4(t-1)  var5(t-1)   var1(t)\n",
      "1      0.731093   0.338936   0.121212        1.0   0.471268  0.689076\n",
      "2      0.689076   0.344538   0.090909        1.0   0.448273  0.663866\n",
      "3      0.663866   0.350140   0.070707        1.0   0.436783  0.638655\n",
      "4      0.638655   0.358543   0.050505        1.0   0.425293  0.613445\n",
      "5      0.613445   0.364146   0.040404        1.0   0.471268  0.596639\n",
      "...         ...        ...        ...        ...        ...       ...\n",
      "4360   0.630252   0.336134   0.727273        0.5   0.586205  0.638655\n",
      "4361   0.638655   0.333333   0.686869        0.5   0.609200  0.638655\n",
      "4362   0.638655   0.336134   0.636364        0.5   0.643677  0.621849\n",
      "4363   0.621849   0.341737   0.585859        0.5   0.678162  0.630252\n",
      "4364   0.630252   0.344538   0.535354        0.5   0.712646  0.638655\n",
      "\n",
      "[4364 rows x 6 columns]\n"
     ]
    }
   ],
   "source": [
    "dados_lstm, normalizado = preparar_dados_lstm()\n",
    "print(dados_lstm)"
   ]
  },
  {
   "cell_type": "code",
   "execution_count": 33,
   "metadata": {
    "colab": {},
    "colab_type": "code",
    "id": "-qpTAL3P11g3"
   },
   "outputs": [],
   "source": [
    "def dividir_dados_treino_teste(dados_lstm):\n",
    "    \n",
    "    # Dividir conjunto de treino e testes\n",
    "    valores = dados_lstm.values\n",
    "    n_dados_treino = 3000\n",
    "    treino = valores[:n_dados_treino, :]\n",
    "    teste = valores[n_dados_treino:, :]\n",
    "    \n",
    "    return treino, teste\n",
    "\n",
    "def dividir_dados_entrada(dados_lstm):\n",
    "    \n",
    "    # Recebe os dados de treino e teste\n",
    "    treino, teste = dividir_dados_treino_teste(dados_lstm)\n",
    "    # Dividir os dados de entrada\n",
    "    treino_X, teste_X = treino[:, :-1], teste[:, :-1]\n",
    "    \n",
    "    return treino_X, teste_X\n",
    "\n",
    "def dividir_dados_saida(dados_lstm):\n",
    "    \n",
    "    # Recebe os dados de treino e teste\n",
    "    treino, teste = dividir_dados_treino_teste(dados_lstm)\n",
    "    # Dividir os dados de saida\n",
    "    treino_y, teste_y = treino[:, -1], teste[:, -1]\n",
    "    \n",
    "    return treino_y, teste_y\n",
    "\n",
    "def formata_dados_entrada_3D(dados_lstm):\n",
    "    \n",
    "    treino_X, teste_X = dividir_dados_entrada(dados_lstm)\n",
    "    # Reformatar para 3 dimensões [amostras, timesteps, entradas]\n",
    "    treino_X = treino_X.reshape((treino_X.shape[0], 1, treino_X.shape[1]))\n",
    "    teste_X = teste_X.reshape((teste_X.shape[0], 1, teste_X.shape[1]))\n",
    "   \n",
    "    return treino_X, teste_X"
   ]
  },
  {
   "cell_type": "code",
   "execution_count": 34,
   "metadata": {
    "colab": {
     "base_uri": "https://localhost:8080/",
     "height": 34
    },
    "colab_type": "code",
    "executionInfo": {
     "elapsed": 1068,
     "status": "ok",
     "timestamp": 1590194580815,
     "user": {
      "displayName": "Deilson Martins",
      "photoUrl": "",
      "userId": "13111410726071834293"
     },
     "user_tz": 180
    },
    "id": "GTwuUSHQ11g8",
    "outputId": "848ecb0b-385e-443d-df0c-659fb049d215"
   },
   "outputs": [
    {
     "name": "stdout",
     "output_type": "stream",
     "text": [
      "(3000, 1, 5) (3000,) (1364, 1, 5) (1364,)\n"
     ]
    }
   ],
   "source": [
    "treino_X, teste_X = formata_dados_entrada_3D(dados_lstm)\n",
    "treino_y, teste_y = dividir_dados_saida(dados_lstm)\n",
    "\n",
    "print(treino_X.shape, treino_y.shape, teste_X.shape, teste_y.shape)"
   ]
  },
  {
   "cell_type": "code",
   "execution_count": 35,
   "metadata": {
    "colab": {},
    "colab_type": "code",
    "id": "rIIusmKx11hA"
   },
   "outputs": [],
   "source": [
    "# Arquitetura da rede neural\n",
    "modelo = Sequential()\n",
    "modelo.add(LSTM(30, \n",
    "                input_shape=(treino_X.shape[1], treino_X.shape[2])))\n",
    "modelo.add(Dense(1))\n",
    "modelo.compile(loss='mae', optimizer='adam')\n"
   ]
  },
  {
   "cell_type": "code",
   "execution_count": 36,
   "metadata": {
    "colab": {},
    "colab_type": "code",
    "id": "5R7QBcvp3RFO"
   },
   "outputs": [],
   "source": [
    "def get_predict(features, labels, norm):\n",
    "    \n",
    "  prev = modelo.predict(features)\n",
    "  \n",
    "  features = features.reshape((features.shape[0], features.shape[2]))\n",
    "  \n",
    "  prev_real = np.concatenate((prev, features[:, 1:]), axis=1)\n",
    "\n",
    "  prev_real = norm.inverse_transform(prev_real)\n",
    " \n",
    "  prev_real = prev_real[:,0]\n",
    "\n",
    "  labels = labels.reshape((len(labels), 1))\n",
    "  \n",
    "  labels_real = np.concatenate((labels, features[:, 1:]), axis=1)\n",
    "\n",
    "  labels_real = norm.inverse_transform(labels_real)\n",
    "\n",
    "  labels_real = labels_real[:,0]\n",
    "\n",
    "  return prev_real, labels_real\n",
    "\n",
    "def get_mrse_mabe(labels_real, prev_real):\n",
    "\n",
    "  mrse = np.sqrt(mean_squared_error(labels_real, prev_real)) \n",
    "\n",
    "  mabe = mean_absolute_error(labels_real, prev_real)\n",
    "\n",
    "  mrse = round(mrse, 3)\n",
    "  \n",
    "  mabe = round(mabe, 3)\n",
    "\n",
    "  return mrse, mabe\n",
    "\n",
    "def get_utheil(labels_real, prev_real):\n",
    "  numerator = 0\n",
    "  denominator1 = 0\n",
    "  denominator2 = 0\n",
    "\n",
    "  for j in range(1, len(labels_real)):\n",
    "    \n",
    "    label = labels_real[j]\n",
    "    prev = prev_real[j]\n",
    "    \n",
    "    previous_label = labels_real[j - 1]\n",
    "   \n",
    "    numerator += (label - prev) ** 2\n",
    "    denominator1 += (label) ** 2\n",
    "    denominator2 += (prev) ** 2\n",
    "\n",
    "  N = len(labels_real)\n",
    "\n",
    "  utheil = np.sqrt((1 / N) * numerator) / (np.sqrt((1 / N) * denominator1) + np.sqrt((1 / N) * denominator2))\n",
    "  #utheil = numerator / denominator\n",
    "  return utheil\n"
   ]
  },
  {
   "cell_type": "code",
   "execution_count": 37,
   "metadata": {
    "colab": {
     "base_uri": "https://localhost:8080/",
     "height": 1000
    },
    "colab_type": "code",
    "executionInfo": {
     "elapsed": 7442,
     "status": "ok",
     "timestamp": 1590194615930,
     "user": {
      "displayName": "Deilson Martins",
      "photoUrl": "",
      "userId": "13111410726071834293"
     },
     "user_tz": 180
    },
    "id": "WXvSGyn88w7z",
    "outputId": "4008abf5-0d4c-4602-d196-406b37988939"
   },
   "outputs": [
    {
     "name": "stdout",
     "output_type": "stream",
     "text": [
      "Train on 3000 samples, validate on 1364 samples\n",
      "Epoch 1/50\n",
      " - 0s - loss: 0.4369 - val_loss: 0.1859\n",
      "Epoch 2/50\n",
      " - 0s - loss: 0.1550 - val_loss: 0.1254\n",
      "Epoch 3/50\n",
      " - 0s - loss: 0.1016 - val_loss: 0.1103\n",
      "Epoch 4/50\n",
      " - 0s - loss: 0.1005 - val_loss: 0.1044\n",
      "Epoch 5/50\n",
      " - 0s - loss: 0.0943 - val_loss: 0.0981\n",
      "Epoch 6/50\n",
      " - 0s - loss: 0.0896 - val_loss: 0.0922\n",
      "Epoch 7/50\n",
      " - 0s - loss: 0.0851 - val_loss: 0.0864\n",
      "Epoch 8/50\n",
      " - 0s - loss: 0.0808 - val_loss: 0.0809\n",
      "Epoch 9/50\n",
      " - 0s - loss: 0.0758 - val_loss: 0.0752\n",
      "Epoch 10/50\n",
      " - 0s - loss: 0.0704 - val_loss: 0.0697\n",
      "Epoch 11/50\n",
      " - 0s - loss: 0.0649 - val_loss: 0.0636\n",
      "Epoch 12/50\n",
      " - 0s - loss: 0.0588 - val_loss: 0.0572\n",
      "Epoch 13/50\n",
      " - 0s - loss: 0.0532 - val_loss: 0.0506\n",
      "Epoch 14/50\n",
      " - 0s - loss: 0.0478 - val_loss: 0.0451\n",
      "Epoch 15/50\n",
      " - 0s - loss: 0.0419 - val_loss: 0.0402\n",
      "Epoch 16/50\n",
      " - 0s - loss: 0.0366 - val_loss: 0.0357\n",
      "Epoch 17/50\n",
      " - 0s - loss: 0.0331 - val_loss: 0.0322\n",
      "Epoch 18/50\n",
      " - 0s - loss: 0.0308 - val_loss: 0.0298\n",
      "Epoch 19/50\n",
      " - 0s - loss: 0.0289 - val_loss: 0.0283\n",
      "Epoch 20/50\n",
      " - 0s - loss: 0.0276 - val_loss: 0.0273\n",
      "Epoch 21/50\n",
      " - 0s - loss: 0.0267 - val_loss: 0.0266\n",
      "Epoch 22/50\n",
      " - 0s - loss: 0.0261 - val_loss: 0.0261\n",
      "Epoch 23/50\n",
      " - 0s - loss: 0.0256 - val_loss: 0.0258\n",
      "Epoch 24/50\n",
      " - 0s - loss: 0.0254 - val_loss: 0.0255\n",
      "Epoch 25/50\n",
      " - 0s - loss: 0.0252 - val_loss: 0.0251\n",
      "Epoch 26/50\n",
      " - 0s - loss: 0.0249 - val_loss: 0.0248\n",
      "Epoch 27/50\n",
      " - 0s - loss: 0.0248 - val_loss: 0.0247\n",
      "Epoch 28/50\n",
      " - 0s - loss: 0.0246 - val_loss: 0.0245\n",
      "Epoch 29/50\n",
      " - 0s - loss: 0.0245 - val_loss: 0.0244\n",
      "Epoch 30/50\n",
      " - 0s - loss: 0.0245 - val_loss: 0.0244\n",
      "Epoch 31/50\n",
      " - 0s - loss: 0.0245 - val_loss: 0.0243\n",
      "Epoch 32/50\n",
      " - 0s - loss: 0.0244 - val_loss: 0.0242\n",
      "Epoch 33/50\n",
      " - 0s - loss: 0.0243 - val_loss: 0.0242\n",
      "Epoch 34/50\n",
      " - 0s - loss: 0.0243 - val_loss: 0.0241\n",
      "Epoch 35/50\n",
      " - 0s - loss: 0.0243 - val_loss: 0.0241\n",
      "Epoch 36/50\n",
      " - 0s - loss: 0.0243 - val_loss: 0.0240\n",
      "Epoch 37/50\n",
      " - 0s - loss: 0.0242 - val_loss: 0.0240\n",
      "Epoch 38/50\n",
      " - 0s - loss: 0.0242 - val_loss: 0.0240\n",
      "Epoch 39/50\n",
      " - 0s - loss: 0.0242 - val_loss: 0.0239\n",
      "Epoch 40/50\n",
      " - 0s - loss: 0.0241 - val_loss: 0.0238\n",
      "Epoch 41/50\n",
      " - 0s - loss: 0.0241 - val_loss: 0.0238\n",
      "Epoch 42/50\n",
      " - 0s - loss: 0.0241 - val_loss: 0.0237\n",
      "Epoch 43/50\n",
      " - 0s - loss: 0.0240 - val_loss: 0.0237\n",
      "Epoch 44/50\n",
      " - 0s - loss: 0.0240 - val_loss: 0.0237\n",
      "Epoch 45/50\n",
      " - 0s - loss: 0.0240 - val_loss: 0.0237\n",
      "Epoch 46/50\n",
      " - 0s - loss: 0.0239 - val_loss: 0.0237\n",
      "Epoch 47/50\n",
      " - 0s - loss: 0.0240 - val_loss: 0.0236\n",
      "Epoch 48/50\n",
      " - 0s - loss: 0.0240 - val_loss: 0.0236\n",
      "Epoch 49/50\n",
      " - 0s - loss: 0.0239 - val_loss: 0.0236\n",
      "Epoch 50/50\n",
      " - 0s - loss: 0.0239 - val_loss: 0.0236\n",
      "Tempo de Execução: 4.311299800872803s\n"
     ]
    }
   ],
   "source": [
    "lista_rmse = []\n",
    "lista_mae = []\n",
    "lista_utheil = []\n",
    "\n",
    "for i in range(100):\n",
    "  inicio = time.time()\n",
    "  # Ajustes da rede e treino\n",
    "  resultado = modelo.fit(treino_X, treino_y, epochs=50, batch_size=72, validation_data=(teste_X, teste_y), verbose=2, shuffle=False)\n",
    "  fim = time.time()\n",
    "  print(\"Tempo de Execução: \" + str(fim - inicio) + \"s\")\n",
    "\n",
    "  prev_real, labels_real = get_predict(teste_X, teste_y, normalizado)\n",
    "\n",
    "  rmse, mae = get_mrse_mabe(labels_real, prev_real)\n",
    "\n",
    "  utheil = get_utheil(labels_real, prev_real)\n",
    "\n",
    "  lista_rmse.append(rmse)\n",
    "\n",
    "  lista_mae.append(mae)\n",
    " \n",
    "  lista_utheil.append(utheil)\n"
   ]
  },
  {
   "cell_type": "code",
   "execution_count": 38,
   "metadata": {
    "colab": {},
    "colab_type": "code",
    "id": "OBLDHs7U9WVr"
   },
   "outputs": [],
   "source": [
    "data_frame_box_plot = pd.DataFrame()\n",
    "  \n",
    "save = \"BoxPlotRNNFINAL.xlsx\"\n",
    "\n",
    "data_frame_box_plot['rmse'] = lista_rmse\n",
    "data_frame_box_plot['mae'] = lista_mae\n",
    "data_frame_box_plot['utheil'] = lista_utheil\n",
    " \n",
    "data_frame_box_plot.to_excel(save)"
   ]
  },
  {
   "cell_type": "code",
   "execution_count": 39,
   "metadata": {
    "colab": {
     "base_uri": "https://localhost:8080/",
     "height": 265
    },
    "colab_type": "code",
    "executionInfo": {
     "elapsed": 449630,
     "status": "ok",
     "timestamp": 1590112869345,
     "user": {
      "displayName": "Deilson Martins",
      "photoUrl": "",
      "userId": "13111410726071834293"
     },
     "user_tz": 180
    },
    "id": "ySwb0GOu11hO",
    "outputId": "2defa9f4-7ef6-44dc-ee39-a668b9c33143"
   },
   "outputs": [
    {
     "data": {
      "image/png": "[encoded data removed]",
      "text/plain": [
       "<Figure size 432x288 with 1 Axes>"
      ]
     },
     "metadata": {
      "needs_background": "light"
     },
     "output_type": "display_data"
    }
   ],
   "source": [
    "# plot resultado\n",
    "pyplot.plot(resultado.history['loss'], label='Perdas de treinamento')\n",
    "pyplot.plot(resultado.history['val_loss'], label='Perdas de validação')\n",
    "pyplot.legend()\n",
    "pyplot.show()"
   ]
  },
  {
   "cell_type": "code",
   "execution_count": 40,
   "metadata": {
    "colab": {
     "base_uri": "https://localhost:8080/",
     "height": 67
    },
    "colab_type": "code",
    "executionInfo": {
     "elapsed": 449397,
     "status": "ok",
     "timestamp": 1590112869346,
     "user": {
      "displayName": "Deilson Martins",
      "photoUrl": "",
      "userId": "13111410726071834293"
     },
     "user_tz": 180
    },
    "id": "TjYWETDB3WZy",
    "outputId": "82980331-d924-48a9-d420-66112c301e5b"
   },
   "outputs": [
    {
     "name": "stdout",
     "output_type": "stream",
     "text": [
      "Teste MRSE: 0.374\n",
      "Teste MABE: 0.280\n",
      "Teste UTHEIL: 0.024\n"
     ]
    }
   ],
   "source": [
    "prev_real, labels_real = get_predict(teste_X, teste_y, normalizado)\n",
    "\n",
    "mrse, mabe = get_mrse_mabe(labels_real, prev_real)\n",
    "utheil = get_utheil(labels_real, prev_real)\n",
    "\n",
    "print('Teste MRSE: %.3f' % mrse)\n",
    "print('Teste MABE: %.3f' % mabe)\n",
    "print('Teste UTHEIL: %.3f' % utheil)"
   ]
  },
  {
   "cell_type": "code",
   "execution_count": 41,
   "metadata": {
    "colab": {},
    "colab_type": "code",
    "id": "_3rrwY7Z3g6L"
   },
   "outputs": [],
   "source": [
    "mrse_str = str(mrse).replace(\".\", \",\")\n",
    "mabe_str = str(mabe).replace(\".\", \",\")"
   ]
  },
  {
   "cell_type": "code",
   "execution_count": 43,
   "metadata": {
    "colab": {
     "base_uri": "https://localhost:8080/",
     "height": 295
    },
    "colab_type": "code",
    "executionInfo": {
     "elapsed": 449583,
     "status": "ok",
     "timestamp": 1590112870011,
     "user": {
      "displayName": "Deilson Martins",
      "photoUrl": "",
      "userId": "13111410726071834293"
     },
     "user_tz": 180
    },
    "id": "4NU4IzW83iSB",
    "outputId": "4a3d5b27-c2ab-4dae-d8fd-8f8aae16c641"
   },
   "outputs": [
    {
     "data": {
      "image/png": "[encoded data removed]",
      "text/plain": [
       "<Figure size 432x288 with 1 Axes>"
      ]
     },
     "metadata": {
      "needs_background": "light"
     },
     "output_type": "display_data"
    }
   ],
   "source": [
    "pyplot.plot(prev_real, '--', label='Previsao', color='red')\n",
    "pyplot.plot(labels_real, label = 'Medições', color = 'blue')\n",
    "pyplot.legend()\n",
    "pyplot.title(\"Previsão x Medições - RNN-LSTM\")\n",
    "pyplot.ylabel(\"Velocidade do Vento (m/s)\")\n",
    "pyplot.xlabel(\"Número de testes\")\n",
    "pyplot.text(1050, 1.5, 'RMSE = ' + mrse_str + '\\nMAE = ' + mabe_str, bbox=dict(fc='white', ec='green'))\n",
    "\n",
    "path_save = 'PrevisaoRNN'\n",
    "pyplot.savefig(path_save, dpi=600, format='pdf')\n",
    "pyplot.show()"
   ]
  },
  {
   "cell_type": "code",
   "execution_count": null,
   "metadata": {},
   "outputs": [],
   "source": []
  }
 ],
 "metadata": {
  "colab": {
   "collapsed_sections": [],
   "name": "RNN.ipynb",
   "provenance": []
  },
  "kernelspec": {
   "display_name": "Python 3",
   "language": "python",
   "name": "python3"
  },
  "language_info": {
   "codemirror_mode": {
    "name": "ipython",
    "version": 3
   },
   "file_extension": ".py",
   "mimetype": "text/x-python",
   "name": "python",
   "nbconvert_exporter": "python",
   "pygments_lexer": "ipython3",
   "version": "3.7.6"
  }
 },
 "nbformat": 4,
 "nbformat_minor": 1
}
