{
 "cells": [
  {
   "cell_type": "code",
   "execution_count": 1,
   "metadata": {
    "colab": {},
    "colab_type": "code",
    "id": "_VW8vbwiAkxl"
   },
   "outputs": [],
   "source": [
    "# importando as bibliotecas utilizadas para calculos matematicos\n",
    "import numpy as np\n",
    "import pandas as pd\n",
    "%matplotlib inline\n",
    "from matplotlib import pyplot\n",
    "import time"
   ]
  },
  {
   "cell_type": "code",
   "execution_count": 2,
   "metadata": {
    "colab": {
     "base_uri": "https://localhost:8080/",
     "height": 34
    },
    "colab_type": "code",
    "id": "QcRVGmYLAkxp",
    "outputId": "dc145730-9af4-40b0-83e1-907306489425"
   },
   "outputs": [
    {
     "name": "stderr",
     "output_type": "stream",
     "text": [
      "Using TensorFlow backend.\n"
     ]
    }
   ],
   "source": [
    "# importando as bibliotecas utilizadas para o modelo de rede neural\n",
    "\n",
    "from sklearn.preprocessing import MinMaxScaler\n",
    "from sklearn.preprocessing import LabelEncoder\n",
    "from sklearn.metrics import mean_squared_error,  mean_absolute_error\n",
    "\n",
    "from keras.models import Sequential\n",
    "from keras.layers import Dense, Flatten\n"
   ]
  },
  {
   "cell_type": "code",
   "execution_count": 3,
   "metadata": {
    "colab": {
     "base_uri": "https://localhost:8080/",
     "height": 134
    },
    "colab_type": "code",
    "id": "bKVL31D2Akxu",
    "outputId": "022fd735-9bc0-4bc0-dbb5-35473ea25d2d"
   },
   "outputs": [
    {
     "name": "stdout",
     "output_type": "stream",
     "text": [
      "                        V  ANG  TEMP  DENS   PRES\n",
      "DATA                                             \n",
      "2018-11-06 00:00:00  10.3  123  20.1  1.13  947.8\n",
      "2018-11-06 01:00:00   9.8  125  19.8  1.13  947.6\n",
      "2018-11-06 02:00:00   9.5  127  19.6  1.13  947.5\n",
      "2018-11-06 03:00:00   9.2  130  19.4  1.13  947.4\n",
      "2018-11-06 04:00:00   8.9  132  19.3  1.13  947.8\n"
     ]
    }
   ],
   "source": [
    "# ler os dados como data frame\n",
    "data_frame = pd.read_csv(\"dados_tratados.csv\", header=0, index_col=0)\n",
    "\n",
    "print(data_frame.head())"
   ]
  },
  {
   "cell_type": "code",
   "execution_count": 4,
   "metadata": {
    "colab": {},
    "colab_type": "code",
    "id": "38BqvXPiAkx-"
   },
   "outputs": [],
   "source": [
    "def preparar_dados():\n",
    "\n",
    "    # Apenas os valores do data frame são retornados, sem rótulos.\n",
    "    values = data_frame.values\n",
    "    # Transformar os datas em numeros para o modelo de aprendizado\n",
    "    #encoder = LabelEncoder()\n",
    "    # Defini a velocidade do vento como objetivo de previsao\n",
    "    #values[:,0] = encoder.fit_transform(values[:,-1])\n",
    "    # Transformar todos os valores do \"values\" em string\n",
    "    values = values.astype('float32')\n",
    "    # Normalizar os dados entre \"0 e 1\"\"\n",
    "    normalizado = MinMaxScaler(feature_range=(0, 1)) \n",
    "    escalonado = normalizado.fit_transform(values)\n",
    "    \n",
    "        \n",
    "    return escalonado, normalizado"
   ]
  },
  {
   "cell_type": "code",
   "execution_count": 5,
   "metadata": {
    "colab": {},
    "colab_type": "code",
    "id": "trR5BB8jAkyC"
   },
   "outputs": [],
   "source": [
    "def dividir_dados_treino_teste(valores):\n",
    "    \n",
    "    # Dividir conjunto de treino e testes\n",
    "    n_dados_treino = 3000\n",
    "    treino = valores[:n_dados_treino, :]\n",
    "    teste = valores[n_dados_treino:, :]\n",
    "    \n",
    "    return treino, teste\n",
    "\n",
    "def dividir_dados_entrada(dados):\n",
    "    \n",
    "    # Recebe os dados de treino e teste\n",
    "    treino, teste = dividir_dados_treino_teste(dados)\n",
    "    # Dividir os dados de entrada\n",
    "    treino_X, teste_X = treino[:, 1:], teste[:, 1:]\n",
    "    \n",
    "    return treino_X, teste_X\n",
    "\n",
    "def dividir_dados_saida(dados):\n",
    "    \n",
    "    # Recebe os dados de treino e teste\n",
    "    treino, teste = dividir_dados_treino_teste(dados)\n",
    "    # Dividir os dados de saida\n",
    "    treino_y, teste_y = treino[:, 0], teste[:, 0]\n",
    "    \n",
    "    return treino_y, teste_y\n",
    "\n",
    "def formata_dados_entrada_3D(dados):\n",
    "    \n",
    "    treino_X, teste_X = dividir_dados_entrada(dados)\n",
    "    # Reformatar para 3 dimensões [amostras, timesteps, entradas]\n",
    "    \n",
    "    treino_X = treino_X.reshape((treino_X.shape[0], 1, treino_X.shape[1]))\n",
    "    teste_X = teste_X.reshape((teste_X.shape[0], 1, teste_X.shape[1]))\n",
    "    \n",
    "    return treino_X, teste_X"
   ]
  },
  {
   "cell_type": "code",
   "execution_count": 6,
   "metadata": {
    "colab": {
     "base_uri": "https://localhost:8080/",
     "height": 34
    },
    "colab_type": "code",
    "id": "wEjNgquVAkyF",
    "outputId": "86522b05-e307-4a2a-adef-8aeb9dfc6871"
   },
   "outputs": [
    {
     "name": "stdout",
     "output_type": "stream",
     "text": [
      "(3000, 1, 4) (1365, 1, 4) (3000,) (1365,)\n"
     ]
    }
   ],
   "source": [
    "dados, normalizado = preparar_dados()\n",
    "treino_X, teste_X = formata_dados_entrada_3D(dados)\n",
    "treino_y, teste_y = dividir_dados_saida(dados)\n",
    "print(treino_X.shape, teste_X.shape, treino_y.shape, teste_y.shape)"
   ]
  },
  {
   "cell_type": "code",
   "execution_count": 7,
   "metadata": {
    "colab": {},
    "colab_type": "code",
    "id": "ZZSYf-c_AkyP"
   },
   "outputs": [],
   "source": [
    "# Arquitetura da rede neural\n",
    "modelo = Sequential()\n",
    "modelo.add(Dense(50, input_shape=(treino_X.shape[1], treino_X.shape[2])))\n",
    "modelo.add(Flatten())\n",
    "modelo.add(Dense(1))\n",
    "modelo.compile(loss='mae', optimizer='adam')\n"
   ]
  },
  {
   "cell_type": "code",
   "execution_count": 8,
   "metadata": {
    "colab": {},
    "colab_type": "code",
    "id": "L2Vglcp8AkzM"
   },
   "outputs": [],
   "source": [
    "def get_predict(features, labels, norm):\n",
    "  prev = modelo.predict(features)\n",
    "  \n",
    "  features = features.reshape((features.shape[0], features.shape[2]))\n",
    "\n",
    "  prev_real = np.concatenate((prev, features[:, :]), axis=1)\n",
    "\n",
    "  prev_real = norm.inverse_transform(prev_real)\n",
    "\n",
    "  prev_real = prev_real[:,0]\n",
    "\n",
    "  labels = labels.reshape((len(labels), 1))\n",
    "\n",
    "  labels_real = np.concatenate((labels, features[:, :]), axis=1)\n",
    "\n",
    "  labels_real = norm.inverse_transform(labels_real)\n",
    "\n",
    "  labels_real = labels_real[:,0]\n",
    "\n",
    "  return prev_real, labels_real\n",
    "\n",
    "def get_mrse_mabe(labels_real, prev_real):\n",
    "\n",
    "  mrse = np.sqrt(mean_squared_error(labels_real, prev_real)) \n",
    "\n",
    "  mabe = mean_absolute_error(labels_real, prev_real)\n",
    "\n",
    "  mrse = round(mrse, 3)\n",
    "  \n",
    "  mabe = round(mabe, 3)\n",
    "\n",
    "  return mrse, mabe"
   ]
  },
  {
   "cell_type": "code",
   "execution_count": 9,
   "metadata": {
    "colab": {},
    "colab_type": "code",
    "id": "Cpwef1aCBTba"
   },
   "outputs": [],
   "source": [
    "def get_utheil(labels_real, prev_real):\n",
    "  numerator = 0\n",
    "  denominator1 = 0\n",
    "  denominator2 = 0\n",
    "\n",
    "  for j in range(100, len(labels_real)):\n",
    "    \n",
    "    label = labels_real[j]\n",
    "    prev = prev_real[j]\n",
    "    \n",
    "    previous_label = labels_real[j - 1]\n",
    "   \n",
    "    numerator += (label - prev) ** 2\n",
    "    denominator1 += (label) ** 2\n",
    "    denominator2 += (prev) ** 2\n",
    "\n",
    "  N = len(labels_real)\n",
    "\n",
    "  utheil = np.sqrt((1 / N) * numerator) / (np.sqrt((1 / N) * denominator1) + np.sqrt((1 / N) * denominator2))\n",
    "  #utheil = numerator / denominator\n",
    "  return utheil"
   ]
  },
  {
   "cell_type": "code",
   "execution_count": 10,
   "metadata": {
    "colab": {
     "base_uri": "https://localhost:8080/",
     "height": 1000
    },
    "colab_type": "code",
    "id": "WXvSGyn88w7z",
    "outputId": "ff372ba9-2d26-4665-b1e4-8743f31fc892"
   },
   "outputs": [
    {
     "name": "stdout",
     "output_type": "stream",
     "text": [
      "Train on 3000 samples, validate on 1365 samples\n",
      "Epoch 1/50\n",
      " - 0s - loss: 0.3075 - val_loss: 0.1448\n",
      "Epoch 2/50\n",
      " - 0s - loss: 0.1446 - val_loss: 0.1377\n",
      "Epoch 3/50\n",
      " - 0s - loss: 0.1468 - val_loss: 0.1378\n",
      "Epoch 4/50\n",
      " - 0s - loss: 0.1436 - val_loss: 0.1370\n",
      "Epoch 5/50\n",
      " - 0s - loss: 0.1405 - val_loss: 0.1362\n",
      "Epoch 6/50\n",
      " - 0s - loss: 0.1384 - val_loss: 0.1354\n",
      "Epoch 7/50\n",
      " - 0s - loss: 0.1363 - val_loss: 0.1348\n",
      "Epoch 8/50\n",
      " - 0s - loss: 0.1346 - val_loss: 0.1344\n",
      "Epoch 9/50\n",
      " - 0s - loss: 0.1336 - val_loss: 0.1343\n",
      "Epoch 10/50\n",
      " - 0s - loss: 0.1331 - val_loss: 0.1339\n",
      "Epoch 11/50\n",
      " - 0s - loss: 0.1323 - val_loss: 0.1340\n",
      "Epoch 12/50\n",
      " - 0s - loss: 0.1321 - val_loss: 0.1336\n",
      "Epoch 13/50\n",
      " - 0s - loss: 0.1314 - val_loss: 0.1336\n",
      "Epoch 14/50\n",
      " - 0s - loss: 0.1314 - val_loss: 0.1336\n",
      "Epoch 15/50\n",
      " - 0s - loss: 0.1311 - val_loss: 0.1333\n",
      "Epoch 16/50\n",
      " - 0s - loss: 0.1306 - val_loss: 0.1331\n",
      "Epoch 17/50\n",
      " - 0s - loss: 0.1304 - val_loss: 0.1329\n",
      "Epoch 18/50\n",
      " - 0s - loss: 0.1303 - val_loss: 0.1328\n",
      "Epoch 19/50\n",
      " - 0s - loss: 0.1302 - val_loss: 0.1327\n",
      "Epoch 20/50\n",
      " - 0s - loss: 0.1300 - val_loss: 0.1326\n",
      "Epoch 21/50\n",
      " - 0s - loss: 0.1297 - val_loss: 0.1324\n",
      "Epoch 22/50\n",
      " - 0s - loss: 0.1291 - val_loss: 0.1322\n",
      "Epoch 23/50\n",
      " - 0s - loss: 0.1287 - val_loss: 0.1321\n",
      "Epoch 24/50\n",
      " - 0s - loss: 0.1284 - val_loss: 0.1320\n",
      "Epoch 25/50\n",
      " - 0s - loss: 0.1280 - val_loss: 0.1320\n",
      "Epoch 26/50\n",
      " - 0s - loss: 0.1278 - val_loss: 0.1320\n",
      "Epoch 27/50\n",
      " - 0s - loss: 0.1279 - val_loss: 0.1320\n",
      "Epoch 28/50\n",
      " - 0s - loss: 0.1277 - val_loss: 0.1320\n",
      "Epoch 29/50\n",
      " - 0s - loss: 0.1276 - val_loss: 0.1320\n",
      "Epoch 30/50\n",
      " - 0s - loss: 0.1276 - val_loss: 0.1320\n",
      "Epoch 31/50\n",
      " - 0s - loss: 0.1275 - val_loss: 0.1320\n",
      "Epoch 32/50\n",
      " - 0s - loss: 0.1273 - val_loss: 0.1320\n",
      "Epoch 33/50\n",
      " - 0s - loss: 0.1272 - val_loss: 0.1320\n",
      "Epoch 34/50\n",
      " - 0s - loss: 0.1270 - val_loss: 0.1320\n",
      "Epoch 35/50\n",
      " - 0s - loss: 0.1269 - val_loss: 0.1319\n",
      "Epoch 36/50\n",
      " - 0s - loss: 0.1271 - val_loss: 0.1320\n",
      "Epoch 37/50\n",
      " - 0s - loss: 0.1270 - val_loss: 0.1320\n",
      "Epoch 38/50\n",
      " - 0s - loss: 0.1270 - val_loss: 0.1320\n",
      "Epoch 39/50\n",
      " - 0s - loss: 0.1268 - val_loss: 0.1321\n",
      "Epoch 40/50\n",
      " - 0s - loss: 0.1266 - val_loss: 0.1321\n",
      "Epoch 41/50\n",
      " - 0s - loss: 0.1263 - val_loss: 0.1322\n",
      "Epoch 42/50\n",
      " - 0s - loss: 0.1262 - val_loss: 0.1322\n",
      "Epoch 43/50\n",
      " - 0s - loss: 0.1263 - val_loss: 0.1322\n",
      "Epoch 44/50\n",
      " - 0s - loss: 0.1264 - val_loss: 0.1322\n",
      "Epoch 45/50\n",
      " - 0s - loss: 0.1264 - val_loss: 0.1323\n",
      "Epoch 46/50\n",
      " - 0s - loss: 0.1264 - val_loss: 0.1323\n",
      "Epoch 47/50\n",
      " - 0s - loss: 0.1264 - val_loss: 0.1324\n",
      "Epoch 48/50\n",
      " - 0s - loss: 0.1262 - val_loss: 0.1324\n",
      "Epoch 49/50\n",
      " - 0s - loss: 0.1262 - val_loss: 0.1325\n",
      "Epoch 50/50\n",
      " - 0s - loss: 0.1262 - val_loss: 0.1327\n",
      "Tempo de Execução: 2.710928440093994s\n"
     ]
    }
   ],
   "source": [
    "lista_rmse = []\n",
    "lista_mae = []\n",
    "lista_utheil = []\n",
    "\n",
    "for i in range(1):\n",
    "  inicio = time.time()\n",
    "  # Ajustes da rede e treino\n",
    "  resultado = modelo.fit(treino_X, treino_y, epochs=50, batch_size=72, validation_data=(teste_X, teste_y), verbose=2, shuffle=False)\n",
    "  fim = time.time()\n",
    "  print(\"Tempo de Execução: \" + str(fim - inicio) + \"s\")\n",
    "\n",
    "  prev_real, labels_real = get_predict(teste_X, teste_y, normalizado)\n",
    "\n",
    "  rmse, mae = get_mrse_mabe(labels_real, prev_real)\n",
    "  \n",
    "  utheil = get_utheil(labels_real, prev_real)\n",
    "\n",
    "  lista_rmse.append(rmse)\n",
    "\n",
    "  lista_mae.append(mae)\n",
    "  \n",
    "  lista_utheil.append(utheil)\n"
   ]
  },
  {
   "cell_type": "code",
   "execution_count": 11,
   "metadata": {},
   "outputs": [],
   "source": [
    "data_frame_box_plot = pd.DataFrame()\n",
    "  \n",
    "save = \"BoxPlotRNAFINAL.xlsx\"\n",
    "\n",
    "data_frame_box_plot['rmse'] = lista_rmse\n",
    "data_frame_box_plot['mae'] = lista_mae\n",
    "data_frame_box_plot['utheil'] = lista_utheil\n",
    " \n",
    "data_frame_box_plot.to_excel(save)"
   ]
  },
  {
   "cell_type": "code",
   "execution_count": 12,
   "metadata": {},
   "outputs": [
    {
     "data": {
      "image/png": "[encoded data removed]",
      "text/plain": [
       "<Figure size 432x288 with 1 Axes>"
      ]
     },
     "metadata": {
      "needs_background": "light"
     },
     "output_type": "display_data"
    }
   ],
   "source": [
    "# plot resultado\n",
    "pyplot.plot(resultado.history['loss'], label='Perdas de treinamento')\n",
    "pyplot.plot(resultado.history['val_loss'], label='Perdas de validação')\n",
    "pyplot.legend()\n",
    "pyplot.show()"
   ]
  },
  {
   "cell_type": "code",
   "execution_count": 13,
   "metadata": {},
   "outputs": [
    {
     "name": "stdout",
     "output_type": "stream",
     "text": [
      "Teste MRSE: 2.243\n",
      "Teste MABE: 1.579\n",
      "Teste UTHEIL: 0.143\n"
     ]
    }
   ],
   "source": [
    "prev_real, labels_real = get_predict(teste_X, teste_y, normalizado)\n",
    "\n",
    "mrse, mabe = get_mrse_mabe(labels_real, prev_real)\n",
    "utheil = get_utheil(labels_real, prev_real)\n",
    "\n",
    "print('Teste MRSE: %.3f' % mrse)\n",
    "print('Teste MABE: %.3f' % mabe)\n",
    "print('Teste UTHEIL: %.3f' % utheil)"
   ]
  },
  {
   "cell_type": "code",
   "execution_count": 14,
   "metadata": {},
   "outputs": [],
   "source": [
    "mrse_str = str(mrse).replace(\".\", \",\")\n",
    "mabe_str = str(mabe).replace(\".\", \",\")"
   ]
  },
  {
   "cell_type": "code",
   "execution_count": 16,
   "metadata": {},
   "outputs": [
    {
     "data": {
      "image/png": "[encoded data removed]",
      "text/plain": [
       "<Figure size 432x288 with 1 Axes>"
      ]
     },
     "metadata": {
      "needs_background": "light"
     },
     "output_type": "display_data"
    }
   ],
   "source": [
    "pyplot.plot(prev_real, '--', label='Previsao', color='red')\n",
    "pyplot.plot(labels_real, label = 'Medições', color = 'blue')\n",
    "pyplot.legend()\n",
    "pyplot.title(\"Previsão x Medições - RNA\")\n",
    "pyplot.ylabel(\"Velocidade do Vento (m/s)\")\n",
    "pyplot.xlabel(\"Número de testes\")\n",
    "pyplot.text(650, 1.5, 'RMSE = ' + mrse_str + '\\nMAE = ' + mabe_str, bbox=dict(fc='white', ec='green'))\n",
    "\n",
    "path_save = 'PrevisaoRNA'\n",
    "pyplot.savefig(path_save, dpi=600, format='pdf')\n",
    "pyplot.show()"
   ]
  },
  {
   "cell_type": "code",
   "execution_count": null,
   "metadata": {},
   "outputs": [],
   "source": []
  }
 ],
 "metadata": {
  "colab": {
   "collapsed_sections": [],
   "name": "RNA.ipynb",
   "provenance": []
  },
  "kernelspec": {
   "display_name": "Python 3",
   "language": "python",
   "name": "python3"
  },
  "language_info": {
   "codemirror_mode": {
    "name": "ipython",
    "version": 3
   },
   "file_extension": ".py",
   "mimetype": "text/x-python",
   "name": "python",
   "nbconvert_exporter": "python",
   "pygments_lexer": "ipython3",
   "version": "3.7.6"
  }
 },
 "nbformat": 4,
 "nbformat_minor": 1
}
